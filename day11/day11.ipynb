{
 "cells": [
  {
   "cell_type": "code",
   "execution_count": 21,
   "metadata": {},
   "outputs": [
    {
     "name": "stdout",
     "output_type": "stream",
     "text": [
      "[1594, 437]\n"
     ]
    }
   ],
   "source": [
    "import numpy as np\n",
    "from scipy.signal import convolve2d\n",
    "input_file = \"test.txt\"\n",
    "input_file = \"input.txt\"\n",
    "\n",
    "g = np.array([list(map(int,list(x))) for x in open(input_file).read().splitlines()],dtype=int)\n",
    "\n",
    "r = [0,0]\n",
    "while (g != 0).any():\n",
    "    g += 1\n",
    "    done = False\n",
    "    while not done:\n",
    "        r[0] += 0 if r[1] >= 100 else np.sum(g >= 10)   \n",
    "        ng = g + convolve2d(g >= 10,np.ones((3,3), dtype=int),mode='same')\n",
    "        ng[g >= 10] = -10\n",
    "        done = True if (ng == g).all() else False\n",
    "        g = ng\n",
    "    g[g<0] = 0\n",
    "    r[1] += 1\n",
    "\n",
    "print(r)\n"
   ]
  }
 ],
 "metadata": {
  "interpreter": {
   "hash": "73bb9c96036c826f4011dda1ac70118e6894562f66ddc17f5f76fa275bda1289"
  },
  "kernelspec": {
   "display_name": "Python 3.8.10 64-bit ('base': conda)",
   "language": "python",
   "name": "python3"
  },
  "language_info": {
   "codemirror_mode": {
    "name": "ipython",
    "version": 3
   },
   "file_extension": ".py",
   "mimetype": "text/x-python",
   "name": "python",
   "nbconvert_exporter": "python",
   "pygments_lexer": "ipython3",
   "version": "3.8.10"
  },
  "orig_nbformat": 4
 },
 "nbformat": 4,
 "nbformat_minor": 2
}
