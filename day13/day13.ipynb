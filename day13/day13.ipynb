{
 "cells": [
  {
   "cell_type": "code",
   "execution_count": 197,
   "metadata": {},
   "outputs": [
    {
     "name": "stdout",
     "output_type": "stream",
     "text": [
      "  # # # #   # # #     # # # #   #     #   # # #     # # # #       # #   #         \n",
      "  #         #     #   #         #   #     #     #   #               #   #         \n",
      "  # # #     #     #   # # #     # #       # # #     # # #           #   #         \n",
      "  #         # # #     #         #   #     #     #   #               #   #         \n",
      "  #         #         #         #   #     #     #   #         #     #   #         \n",
      "  #         #         # # # #   #     #   # # #     # # # #     # #     # # # #    \n"
     ]
    }
   ],
   "source": [
    "import numpy as np\n",
    "input_file = \"test.txt\"\n",
    "input_file = \"input.txt\"\n",
    "\n",
    "ds,fs = open(input_file).read().split(\"\\n\\n\")\n",
    "ds = ([tuple(map(int,x.split(','))) for x in ds.splitlines()])\n",
    "fs = [(0 if a == 'x' else 1, int(b)) for a,b in [x[11:].split('=') for x in fs.splitlines()]]\n",
    "\n",
    "for ax,pos in fs:\n",
    "    ds = [(2*pos-x if not ax and pos < x else x, 2*pos-y if ax and pos < y else y) for x,y in ds]\n",
    "\n",
    "m = np.amax(np.array(ds),0) + 1\n",
    "g = np.zeros(m,dtype=int)\n",
    "g[tuple(np.array(ds).T)] = 1\n",
    "np.array2string(np.minimum(g,1).T).replace('1','#').replace('0',' ').replace('[',' ').replace(']', ' ')\n",
    "print(r)\n",
    "\n"
   ]
  }
 ],
 "metadata": {
  "interpreter": {
   "hash": "73bb9c96036c826f4011dda1ac70118e6894562f66ddc17f5f76fa275bda1289"
  },
  "kernelspec": {
   "display_name": "Python 3.8.10 64-bit ('base': conda)",
   "language": "python",
   "name": "python3"
  },
  "language_info": {
   "codemirror_mode": {
    "name": "ipython",
    "version": 3
   },
   "file_extension": ".py",
   "mimetype": "text/x-python",
   "name": "python",
   "nbconvert_exporter": "python",
   "pygments_lexer": "ipython3",
   "version": "3.8.10"
  },
  "orig_nbformat": 4
 },
 "nbformat": 4,
 "nbformat_minor": 2
}
