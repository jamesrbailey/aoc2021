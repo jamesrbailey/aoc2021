{
 "cells": [
  {
   "cell_type": "code",
   "execution_count": 181,
   "metadata": {},
   "outputs": [
    {
     "name": "stdout",
     "output_type": "stream",
     "text": [
      "  # # # #   # # #     # # # #   #     #   # # #     # # # #       # #   #         \n",
      "  #         #     #   #         #   #     #     #   #               #   #         \n",
      "  # # #     #     #   # # #     # #       # # #     # # #           #   #         \n",
      "  #         # # #     #         #   #     #     #   #               #   #         \n",
      "  #         #         #         #   #     #     #   #         #     #   #         \n",
      "  #         #         # # # #   #     #   # # #     # # # #     # #     # # # #    \n"
     ]
    }
   ],
   "source": [
    "import numpy as np\n",
    "input_file = \"test.txt\"\n",
    "input_file = \"input.txt\"\n",
    "\n",
    "d,fs = open(input_file).read().split(\"\\n\\n\")\n",
    "d = np.array([tuple(map(int,x.split(','))) for x in d.splitlines()])\n",
    "fs = [(0 if a == 'x' else 1, int(b)) for a,b in [x[11:].split('=') for x in fs.splitlines()]]\n",
    "\n",
    "m = np.amax(np.array(d),0) + 1\n",
    "g = np.zeros(m,dtype=int)\n",
    "g[tuple(d.T)] = 1\n",
    "\n",
    "for ax,pos in fs:\n",
    "    if ax == 1:\n",
    "        a = g[:, :pos]\n",
    "        b = np.flip(g[:, pos+1:],ax)\n",
    "        b = np.pad(b, [(0,0), (a.shape[1]-b.shape[1],0)] )       \n",
    "    else:\n",
    "        a = g[:pos, :]\n",
    "        b = np.flip(g[pos+1:, :],ax)\n",
    "\n",
    "    n = a + b\n",
    "    g = n\n",
    "\n",
    "r = np.array2string(np.minimum(g,1).T).replace('1','#').replace('0',' ').replace('[',' ').replace(']', ' ')\n",
    "print(r)\n",
    "\n"
   ]
  }
 ],
 "metadata": {
  "interpreter": {
   "hash": "73bb9c96036c826f4011dda1ac70118e6894562f66ddc17f5f76fa275bda1289"
  },
  "kernelspec": {
   "display_name": "Python 3.8.10 64-bit ('base': conda)",
   "language": "python",
   "name": "python3"
  },
  "language_info": {
   "codemirror_mode": {
    "name": "ipython",
    "version": 3
   },
   "file_extension": ".py",
   "mimetype": "text/x-python",
   "name": "python",
   "nbconvert_exporter": "python",
   "pygments_lexer": "ipython3",
   "version": "3.8.10"
  },
  "orig_nbformat": 4
 },
 "nbformat": 4,
 "nbformat_minor": 2
}
