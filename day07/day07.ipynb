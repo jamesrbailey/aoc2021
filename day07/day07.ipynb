{
 "cells": [
  {
   "cell_type": "code",
   "execution_count": 107,
   "metadata": {},
   "outputs": [
    {
     "name": "stdout",
     "output_type": "stream",
     "text": [
      "376.0\n",
      "352707.0\n",
      "490\n",
      "95519693.0\n"
     ]
    }
   ],
   "source": [
    "import numpy as np\n",
    "\n",
    "input_file = \"test.txt\"\n",
    "input_file = \"input.txt\"\n",
    "\n",
    "input = np.loadtxt(input_file, delimiter=',', dtype=np.int64)\n",
    "\n",
    "t = np.median(input)\n",
    "print(sum( [np.abs(v-t) for v in input]))\n",
    "\n",
    "t = int(np.round(np.mean(input)))-1\n",
    "print(sum( [(lambda n:n*(n+1)/2)(np.abs(v-t)) for v in input]))"
   ]
  }
 ],
 "metadata": {
  "interpreter": {
   "hash": "73bb9c96036c826f4011dda1ac70118e6894562f66ddc17f5f76fa275bda1289"
  },
  "kernelspec": {
   "display_name": "Python 3.8.10 64-bit ('base': conda)",
   "language": "python",
   "name": "python3"
  },
  "language_info": {
   "codemirror_mode": {
    "name": "ipython",
    "version": 3
   },
   "file_extension": ".py",
   "mimetype": "text/x-python",
   "name": "python",
   "nbconvert_exporter": "python",
   "pygments_lexer": "ipython3",
   "version": "3.8.10"
  },
  "orig_nbformat": 4
 },
 "nbformat": 4,
 "nbformat_minor": 2
}
