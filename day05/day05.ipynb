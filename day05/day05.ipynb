{
 "cells": [
  {
   "cell_type": "code",
   "execution_count": 7,
   "metadata": {},
   "outputs": [
    {
     "name": "stdout",
     "output_type": "stream",
     "text": [
      "7414\n",
      "19676\n"
     ]
    }
   ],
   "source": [
    "import numpy as np\n",
    "\n",
    "input_file = \"test.txt\"\n",
    "input_file = \"input.txt\"\n",
    "\n",
    "input = [[np.array(list(map(int,y.split(',')))) for y in x.split(' -> ')] for x in open(input_file).read().splitlines()]\n",
    "\n",
    "lines = [np.round(np.linspace(z[0], z[1], np.max(np.abs(z[0]-z[1]))+1, dtype=float)).astype(int) for z in input]\n",
    "\n",
    "def go(diag):\n",
    "    grid = np.zeros( (np.max(input)+1,)*2, dtype=int )\n",
    "    for line in lines:\n",
    "        if diag or (line[0]==line[-1]).any():\n",
    "            np.add.at(grid, tuple(line.T), 1)\n",
    "    return np.sum(grid > 1)\n",
    "\n",
    "print(go(False))\n",
    "print(go(True))\n",
    "\n"
   ]
  },
  {
   "cell_type": "code",
   "execution_count": 8,
   "metadata": {},
   "outputs": [
    {
     "name": "stdout",
     "output_type": "stream",
     "text": [
      "[[2 1]]\n"
     ]
    }
   ],
   "source": [
    "z = [None, None]\n",
    "z[0] = np.array([2,1])\n",
    "z[1] = np.array([2,1])\n",
    "x = np.linspace(z[0], z[1], np.max(np.abs(z[0]-z[1]))+1, dtype=int)\n",
    "print(x)\n"
   ]
  }
 ],
 "metadata": {
  "interpreter": {
   "hash": "73bb9c96036c826f4011dda1ac70118e6894562f66ddc17f5f76fa275bda1289"
  },
  "kernelspec": {
   "display_name": "Python 3.8.10 64-bit ('base': conda)",
   "language": "python",
   "name": "python3"
  },
  "language_info": {
   "codemirror_mode": {
    "name": "ipython",
    "version": 3
   },
   "file_extension": ".py",
   "mimetype": "text/x-python",
   "name": "python",
   "nbconvert_exporter": "python",
   "pygments_lexer": "ipython3",
   "version": "3.8.10"
  },
  "orig_nbformat": 4
 },
 "nbformat": 4,
 "nbformat_minor": 2
}
