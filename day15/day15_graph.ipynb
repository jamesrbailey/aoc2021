{
 "cells": [
  {
   "cell_type": "code",
   "execution_count": 10,
   "metadata": {},
   "outputs": [
    {
     "ename": "SyntaxError",
     "evalue": "invalid syntax (<ipython-input-10-656ac61a1c3b>, line 22)",
     "output_type": "error",
     "traceback": [
      "\u001b[1;36m  File \u001b[1;32m\"<ipython-input-10-656ac61a1c3b>\"\u001b[1;36m, line \u001b[1;32m22\u001b[0m\n\u001b[1;33m    graph.add_weighted_edges_from([(str(n), str((x,y)), input[(x,y)]) for x in range(w) for y in range(w) for n in (lambda p: filter(lambda q: 0 <= q[0] < input.shape[0] and (0 <= q[1] < input.shape[1]), [(p[0]+dx, p[1]+dy) for dx,dy in [(0,-1),(0,+1),(-1,0),(+1,0)]] ))gn((x,y))])\u001b[0m\n\u001b[1;37m                                                                                                                                                                                                                                                                              ^\u001b[0m\n\u001b[1;31mSyntaxError\u001b[0m\u001b[1;31m:\u001b[0m invalid syntax\n"
     ]
    }
   ],
   "source": [
    "import numpy as np\n",
    "import networkx as nx\n",
    "\n",
    "input = np.array([list(map(float,list(x)))  for x in open(\"input.txt\").read().splitlines()])\n",
    "\n",
    "ow = input.shape[0]\n",
    "input = np.tile(input,(5,5))\n",
    "w = input.shape[0]\n",
    "for i in range(w):\n",
    "    for j in range(w):\n",
    "        input[i,j] += i//ow + j//ow\n",
    "        if input[i,j] >= 10:\n",
    "            input[i,j] = input[i,j]%10+1\n",
    "\n",
    "graph = nx.MultiDiGraph()\n",
    "\n",
    "gn = lambda p: filter(lambda q: 0 <= q[0] < input.shape[0] and (0 <= q[1] < input.shape[1]), [(p[0]+dx, p[1]+dy) for dx,dy in [(0,-1),(0,+1),(-1,0),(+1,0)]] )\n",
    "graph.add_weighted_edges_from([(str(n), str((x,y)), input[(x,y)]) for x in range(w) for y in range(w) for n in gn((x,y))])\n",
    "\n",
    "print(nx.shortest_path_length(graph, str((0,0)), str((w-1,w-1)), weight=\"weight\"))\n"
   ]
  }
 ],
 "metadata": {
  "interpreter": {
   "hash": "73bb9c96036c826f4011dda1ac70118e6894562f66ddc17f5f76fa275bda1289"
  },
  "kernelspec": {
   "display_name": "Python 3.8.10 64-bit ('base': conda)",
   "language": "python",
   "name": "python3"
  },
  "language_info": {
   "codemirror_mode": {
    "name": "ipython",
    "version": 3
   },
   "file_extension": ".py",
   "mimetype": "text/x-python",
   "name": "python",
   "nbconvert_exporter": "python",
   "pygments_lexer": "ipython3",
   "version": "3.8.10"
  },
  "orig_nbformat": 4
 },
 "nbformat": 4,
 "nbformat_minor": 2
}
