{
 "cells": [
  {
   "cell_type": "code",
   "execution_count": 42,
   "metadata": {},
   "outputs": [
    {
     "name": "stdout",
     "output_type": "stream",
     "text": [
      "2948.0\n"
     ]
    }
   ],
   "source": [
    "import numpy as np\n",
    "import networkx as nx\n",
    "\n",
    "input = np.array([list(map(float,list(x)))  for x in open(\"input.txt\").read().splitlines()])\n",
    "ow,w = input.shape[0], input.shape[0]*5\n",
    "input = np.vectorize(lambda a: (a%10 + 1) if a >= 10 else a)(np.tile(input,(5,5)) + np.sum(np.indices((w,w))//ow,axis=0)) # Creating grid\n",
    "\n",
    "graph = nx.MultiDiGraph() # Creating graph from grid\n",
    "graph.add_weighted_edges_from([(str(n), str((x,y)), input[(x,y)]) for x in range(w) for y in range(w) for n in (lambda p: filter(lambda q: 0 <= q[0] < input.shape[0] and (0 <= q[1] < input.shape[1]), [(p[0]+dx, p[1]+dy) for dx,dy in [(0,-1),(0,+1),(-1,0),(+1,0)]] ))((x,y))])\n",
    "\n",
    "print(nx.shortest_path_length(graph, str((0,0)), str((w-1,w-1)), weight=\"weight\")) # Solving graph\n"
   ]
  }
 ],
 "metadata": {
  "interpreter": {
   "hash": "73bb9c96036c826f4011dda1ac70118e6894562f66ddc17f5f76fa275bda1289"
  },
  "kernelspec": {
   "display_name": "Python 3.8.10 64-bit ('base': conda)",
   "language": "python",
   "name": "python3"
  },
  "language_info": {
   "codemirror_mode": {
    "name": "ipython",
    "version": 3
   },
   "file_extension": ".py",
   "mimetype": "text/x-python",
   "name": "python",
   "nbconvert_exporter": "python",
   "pygments_lexer": "ipython3",
   "version": "3.8.10"
  },
  "orig_nbformat": 4
 },
 "nbformat": 4,
 "nbformat_minor": 2
}
