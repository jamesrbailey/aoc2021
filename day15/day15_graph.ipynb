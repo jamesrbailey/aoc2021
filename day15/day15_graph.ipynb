{
 "cells": [
  {
   "cell_type": "code",
   "execution_count": 1,
   "metadata": {},
   "outputs": [
    {
     "name": "stdout",
     "output_type": "stream",
     "text": [
      "2948.0\n"
     ]
    }
   ],
   "source": [
    "import numpy as np\n",
    "import networkx as nx\n",
    "\n",
    "input = np.array([list(map(float,list(x)))  for x in open(\"input.txt\").read().splitlines()])\n",
    "\n",
    "ow = input.shape[0]\n",
    "input = np.tile(input,(5,5))\n",
    "w = input.shape[0]\n",
    "for i in range(w):\n",
    "    for j in range(w):\n",
    "        input[i,j] += i//ow + j//ow\n",
    "        if input[i,j] >= 10:\n",
    "            input[i,j] = input[i,j]%10+1\n",
    "\n",
    "graph = nx.MultiDiGraph()\n",
    "def gni(p):\n",
    "    return str(p)\n",
    "\n",
    "def gn(p):\n",
    "    s = list([(p[0]+dx, p[1]+dy) for dx,dy in [(0,-1),(0,+1),(-1,0),(+1,0)]])\n",
    "    s = set([p for p in s if 0 <= p[0] < input.shape[0] and (0 <= p[1] < input.shape[1])])\n",
    "    return s\n",
    "\n",
    "for x in range(w):\n",
    "    for y in range(w):\n",
    "        for neigh in gn((x,y)):\n",
    "            graph.add_weighted_edges_from([(gni(neigh), gni((x,y)), input[(x,y)])])\n",
    "\n",
    "print(nx.shortest_path_length(graph, gni((0,0)), gni((w-1,w-1)), weight=\"weight\"))\n"
   ]
  }
 ],
 "metadata": {
  "interpreter": {
   "hash": "73bb9c96036c826f4011dda1ac70118e6894562f66ddc17f5f76fa275bda1289"
  },
  "kernelspec": {
   "display_name": "Python 3.8.10 64-bit ('base': conda)",
   "language": "python",
   "name": "python3"
  },
  "language_info": {
   "codemirror_mode": {
    "name": "ipython",
    "version": 3
   },
   "file_extension": ".py",
   "mimetype": "text/x-python",
   "name": "python",
   "nbconvert_exporter": "python",
   "pygments_lexer": "ipython3",
   "version": "3.8.10"
  },
  "orig_nbformat": 4
 },
 "nbformat": 4,
 "nbformat_minor": 2
}
