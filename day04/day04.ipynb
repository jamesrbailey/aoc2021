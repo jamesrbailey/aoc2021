{
 "cells": [
  {
   "cell_type": "code",
   "execution_count": 87,
   "metadata": {},
   "outputs": [
    {
     "name": "stdout",
     "output_type": "stream",
     "text": [
      "27027\n",
      "36975\n"
     ]
    }
   ],
   "source": [
    "import numpy as np\n",
    "\n",
    "input_file = \"test.txt\"\n",
    "input_file = \"input.txt\"\n",
    "\n",
    "input = open(input_file).read().split(\"\\n\\n\")\n",
    "\n",
    "draws = np.array(list(map(int,input.pop(0).split(','))))\n",
    "boards = [ np.array([list(map(int,row.split())) for row in b.splitlines()]) for b in input]\n",
    "\n",
    "# Part 1 & 2\n",
    "first_board = None\n",
    "for i in range(draws.size):\n",
    "    current_draws = set(draws[0:i+1])\n",
    "    for board in list(boards):\n",
    "        for row_col in [*board, *board.T]:\n",
    "            if set(row_col).issubset(current_draws):\n",
    "                if first_board is None:\n",
    "                    first_board = board\n",
    "                    first_i = i\n",
    "                last_board = board\n",
    "                last_i = i\n",
    "                boards = [b for b in boards if not (b==board).all()]\n",
    "                \n",
    "for b,i in [(first_board, first_i), (last_board, last_i)]:\n",
    "    print(draws[i]*sum(set(b.flatten())-set(draws[0:i+1])))\n",
    "    \n"
   ]
  }
 ],
 "metadata": {
  "interpreter": {
   "hash": "73bb9c96036c826f4011dda1ac70118e6894562f66ddc17f5f76fa275bda1289"
  },
  "kernelspec": {
   "display_name": "Python 3.8.10 64-bit ('base': conda)",
   "language": "python",
   "name": "python3"
  },
  "language_info": {
   "name": "python",
   "version": "3.8.10"
  },
  "orig_nbformat": 4
 },
 "nbformat": 4,
 "nbformat_minor": 2
}
