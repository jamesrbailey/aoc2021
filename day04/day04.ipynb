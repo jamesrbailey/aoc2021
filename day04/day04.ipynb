{
 "cells": [
  {
   "cell_type": "code",
   "execution_count": 116,
   "metadata": {},
   "outputs": [
    {
     "name": "stdout",
     "output_type": "stream",
     "text": [
      "27027 36975\n"
     ]
    }
   ],
   "source": [
    "import numpy as np\n",
    "\n",
    "input_file = \"test.txt\"\n",
    "input_file = \"input.txt\"\n",
    "\n",
    "input = open(input_file).read().split(\"\\n\\n\")\n",
    "\n",
    "draws = np.array(list(map(int,input.pop(0).split(','))))\n",
    "boards = [ np.array([list(map(int,row.split())) for row in b.splitlines()]) for b in input]\n",
    "\n",
    "# Part 1 & 2\n",
    "results = []\n",
    "for i, current_draws in [(i, draws[0:i+1]) for i in range(draws.size)]:\n",
    "    for board in list(boards):\n",
    "        for row_col in [*board, *board.T]:\n",
    "            if set(row_col).issubset(current_draws):\n",
    "                results.append( (board, i) )\n",
    "                boards = [b for b in boards if not (b==board).all()]\n",
    "\n",
    "print(*map( lambda r: draws[r[1]]*sum(set(r[0].flatten())-set(draws[0:r[1]+1])) , [results[0],results[-1]]))\n"
   ]
  }
 ],
 "metadata": {
  "interpreter": {
   "hash": "73bb9c96036c826f4011dda1ac70118e6894562f66ddc17f5f76fa275bda1289"
  },
  "kernelspec": {
   "display_name": "Python 3.8.10 64-bit ('base': conda)",
   "language": "python",
   "name": "python3"
  },
  "language_info": {
   "name": "python",
   "version": "3.8.10"
  },
  "orig_nbformat": 4
 },
 "nbformat": 4,
 "nbformat_minor": 2
}
