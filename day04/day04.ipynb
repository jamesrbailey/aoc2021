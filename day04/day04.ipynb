{
 "cells": [
  {
   "cell_type": "code",
   "execution_count": 96,
   "metadata": {},
   "outputs": [
    {
     "name": "stdout",
     "output_type": "stream",
     "text": [
      "27027\n",
      "36975\n"
     ]
    }
   ],
   "source": [
    "import numpy as np\n",
    "\n",
    "input_file = \"test.txt\"\n",
    "input_file = \"input.txt\"\n",
    "\n",
    "input = open(input_file).read().split(\"\\n\\n\")\n",
    "\n",
    "draws = np.array(list(map(int,input.pop(0).split(','))))\n",
    "boards = [ np.array([list(map(int,row.split())) for row in b.splitlines()]) for b in input]\n",
    "\n",
    "# Part 1 & 2\n",
    "results = []\n",
    "for i in range(draws.size):\n",
    "    current_draws = set(draws[0:i+1])\n",
    "    for board in list(boards):\n",
    "        for row_col in [*board, *board.T]:\n",
    "            if set(row_col).issubset(current_draws):\n",
    "                results.append( (board, i) )\n",
    "                boards = [b for b in boards if not (b==board).all()]\n",
    "               \n",
    "for b,i in [results[0],results[-1]]:\n",
    "    print(draws[i]*sum(set(b.flatten())-set(draws[0:i+1])))\n",
    "    \n"
   ]
  }
 ],
 "metadata": {
  "language_info": {
   "name": "python"
  },
  "orig_nbformat": 4
 },
 "nbformat": 4,
 "nbformat_minor": 2
}
