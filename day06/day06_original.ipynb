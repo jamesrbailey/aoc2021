{
 "cells": [
  {
   "cell_type": "code",
   "execution_count": 1,
   "metadata": {},
   "outputs": [
    {
     "name": "stdout",
     "output_type": "stream",
     "text": [
      "[380243, 1708791884591]\n"
     ]
    }
   ],
   "source": [
    "import numpy as np\n",
    "from numpy.linalg import matrix_power as p\n",
    "\n",
    "input_file = \"test.txt\"\n",
    "input_file = \"input.txt\"\n",
    "\n",
    "input = np.loadtxt(input_file, delimiter=',', dtype=np.int64)\n",
    "\n",
    "update_lfsr = np.eye(9, k=-1, dtype=np.int64) # the algorithm is a linear feedback shift register (LFSR)\n",
    "update_lfsr[0] = [0, 0, 0, 0, 0, 0, 1, 0, 1]\n",
    "\n",
    "lfsr = np.bincount(input, minlength=9)\n",
    "\n",
    "\n",
    "print([sum(lfsr @ p(update_lfsr,days)) for days in [80, 256]]) # O(log(days)) complexity courtesy linear alegbra :)\n",
    "\n"
   ]
  }
 ],
 "metadata": {
  "interpreter": {
   "hash": "73bb9c96036c826f4011dda1ac70118e6894562f66ddc17f5f76fa275bda1289"
  },
  "kernelspec": {
   "display_name": "Python 3.8.10 64-bit ('base': conda)",
   "language": "python",
   "name": "python3"
  },
  "language_info": {
   "codemirror_mode": {
    "name": "ipython",
    "version": 3
   },
   "file_extension": ".py",
   "mimetype": "text/x-python",
   "name": "python",
   "nbconvert_exporter": "python",
   "pygments_lexer": "ipython3",
   "version": "3.8.10"
  },
  "orig_nbformat": 4
 },
 "nbformat": 4,
 "nbformat_minor": 2
}
