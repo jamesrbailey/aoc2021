{
 "cells": [
  {
   "cell_type": "code",
   "execution_count": 3,
   "metadata": {},
   "outputs": [
    {
     "name": "stdout",
     "output_type": "stream",
     "text": [
      "5934\n",
      "26984457539\n"
     ]
    }
   ],
   "source": [
    "input_file = \"test.txt\"\n",
    "# input_file = \"input.txt\"\n",
    "\n",
    "input = list(map(int,open(input_file).read().splitlines()[0].split(',')))\n",
    "\n",
    "def go(days):\n",
    "    fish_per_day = [0]*9\n",
    "    for i in range(9):\n",
    "        fish_per_day[i] = len([x for x in input if x == i])\n",
    "\n",
    "    for day in range(days):\n",
    "        expired = fish_per_day[0]\n",
    "        fish_per_day.pop(0)\n",
    "        fish_per_day.append(0)\n",
    "        fish_per_day[6] += expired\n",
    "        fish_per_day[8] = expired\n",
    "    return sum(fish_per_day)\n",
    "\n",
    "print(go(80))\n",
    "print(go(256))\n"
   ]
  }
 ],
 "metadata": {
  "interpreter": {
   "hash": "73bb9c96036c826f4011dda1ac70118e6894562f66ddc17f5f76fa275bda1289"
  },
  "kernelspec": {
   "display_name": "Python 3.8.10 64-bit ('base': conda)",
   "language": "python",
   "name": "python3"
  },
  "language_info": {
   "codemirror_mode": {
    "name": "ipython",
    "version": 3
   },
   "file_extension": ".py",
   "mimetype": "text/x-python",
   "name": "python",
   "nbconvert_exporter": "python",
   "pygments_lexer": "ipython3",
   "version": "3.8.10"
  },
  "orig_nbformat": 4
 },
 "nbformat": 4,
 "nbformat_minor": 2
}
