{
 "cells": [
  {
   "cell_type": "code",
   "execution_count": 1,
   "metadata": {},
   "outputs": [
    {
     "name": "stdout",
     "output_type": "stream",
     "text": [
      "[380243, 1708791884591]\n"
     ]
    }
   ],
   "source": [
    "import numpy as np\n",
    "input_file = \"test.txt\"\n",
    "input_file = \"input.txt\"\n",
    "\n",
    "input = list(map(int,open(input_file).read().splitlines()[0].split(',')))\n",
    "\n",
    "update_lfsr = np.roll(np.identity(9, dtype=np.int64),-1,axis=1)\n",
    "update_lfsr[0] = [0, 0, 0, 0, 0, 0, 1, 0, 1]\n",
    "\n",
    "lfsr = np.array([len([x for x in input if x == i]) for i in range(9)], dtype=np.int64)\n",
    "\n",
    "print([sum(np.matmul(lfsr, np.linalg.matrix_power(update_lfsr,days))) for days in [80, 256]])\n",
    "\n"
   ]
  }
 ],
 "metadata": {
  "interpreter": {
   "hash": "73bb9c96036c826f4011dda1ac70118e6894562f66ddc17f5f76fa275bda1289"
  },
  "kernelspec": {
   "display_name": "Python 3.8.10 64-bit ('base': conda)",
   "language": "python",
   "name": "python3"
  },
  "language_info": {
   "codemirror_mode": {
    "name": "ipython",
    "version": 3
   },
   "file_extension": ".py",
   "mimetype": "text/x-python",
   "name": "python",
   "nbconvert_exporter": "python",
   "pygments_lexer": "ipython3",
   "version": "3.8.10"
  },
  "orig_nbformat": 4
 },
 "nbformat": 4,
 "nbformat_minor": 2
}
