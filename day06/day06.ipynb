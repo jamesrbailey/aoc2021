{
 "cells": [
  {
   "cell_type": "code",
   "execution_count": 60,
   "metadata": {},
   "outputs": [
    {
     "name": "stdout",
     "output_type": "stream",
     "text": [
      "[380243, 1708791884591]\n"
     ]
    }
   ],
   "source": [
    "import numpy as np\n",
    "print([np.bincount(np.loadtxt(\"input.txt\", delimiter=',', dtype=np.int64), minlength=9) @ up for up in [[1421, 1401, 1191, 1154, 1034, 950, 905, 779, 768],[6703087164,6206821033,5617089148,5217223242,4726100874,4368232009,3989468462,3649885552,3369186778]]])\n",
    "\n"
   ]
  }
 ],
 "metadata": {
  "interpreter": {
   "hash": "73bb9c96036c826f4011dda1ac70118e6894562f66ddc17f5f76fa275bda1289"
  },
  "kernelspec": {
   "display_name": "Python 3.8.10 64-bit ('base': conda)",
   "language": "python",
   "name": "python3"
  },
  "language_info": {
   "codemirror_mode": {
    "name": "ipython",
    "version": 3
   },
   "file_extension": ".py",
   "mimetype": "text/x-python",
   "name": "python",
   "nbconvert_exporter": "python",
   "pygments_lexer": "ipython3",
   "version": "3.8.10"
  },
  "orig_nbformat": 4
 },
 "nbformat": 4,
 "nbformat_minor": 2
}
