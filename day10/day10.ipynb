{
 "cells": [
  {
   "cell_type": "code",
   "execution_count": 37,
   "metadata": {},
   "outputs": [
    {
     "name": "stdout",
     "output_type": "stream",
     "text": [
      "464991 3662008566\n"
     ]
    }
   ],
   "source": [
    "from lark import Lark, Token\n",
    "\n",
    "parser = Lark(r\"\"\"\n",
    "               line : expr+\n",
    "\n",
    "               expr : \"(\" expr* \")\"\n",
    "                    | \"[\" expr* \"]\"\n",
    "                    | \"{\" expr* \"}\"\n",
    "                    | \"<\" expr* \">\"\n",
    "               \"\"\",\n",
    "               start='line',parser='lalr')\n",
    "\n",
    "tmap = {'RPAR' : ')', 'RSQB': ']', 'RBRACE' : '}', 'MORETHAN' : '>'}\n",
    "points = {'RPAR' : (3,1), 'RSQB': (57,2), 'RBRACE' : (1197,3), 'MORETHAN' : (25137,4)}\n",
    "p = [0, []]\n",
    "\n",
    "def auto_complete(e,score):\n",
    "    next_token = next(t for t in e.interactive_parser.accepts() if t in points.keys())\n",
    "    score = 5*score + points[next_token][1]\n",
    "    next_token = Token(next_token,tmap[next_token])\n",
    "    \n",
    "    try:\n",
    "        e.interactive_parser.feed_token(next_token)\n",
    "        e.interactive_parser.feed_token(e.token)\n",
    "    except Exception:\n",
    "        score = auto_complete(e,score)\n",
    "\n",
    "    return score\n",
    "\n",
    "def error_handler(e):\n",
    "    if e.token.type in points.keys(): \n",
    "        p[0] += points[e.token.type][0]\n",
    "    else:\n",
    "        p[1].append(auto_complete(e,0))\n",
    "\n",
    "for line in open(\"input.txt\").read().splitlines():\n",
    "    try:\n",
    "        parser.parse(line, on_error=error_handler)\n",
    "    except:\n",
    "        pass\n",
    "\n",
    "print(p[0],sorted(p[1])[int(len(p[1])/2)])"
   ]
  }
 ],
 "metadata": {
  "interpreter": {
   "hash": "73bb9c96036c826f4011dda1ac70118e6894562f66ddc17f5f76fa275bda1289"
  },
  "kernelspec": {
   "display_name": "Python 3.8.10 64-bit ('base': conda)",
   "language": "python",
   "name": "python3"
  },
  "language_info": {
   "codemirror_mode": {
    "name": "ipython",
    "version": 3
   },
   "file_extension": ".py",
   "mimetype": "text/x-python",
   "name": "python",
   "nbconvert_exporter": "python",
   "pygments_lexer": "ipython3",
   "version": "3.8.10"
  },
  "orig_nbformat": 4
 },
 "nbformat": 4,
 "nbformat_minor": 2
}
