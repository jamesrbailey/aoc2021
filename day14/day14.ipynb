{
 "cells": [
  {
   "cell_type": "code",
   "execution_count": 9,
   "metadata": {},
   "outputs": [
    {
     "name": "stdout",
     "output_type": "stream",
     "text": [
      "[3406, 3941782230241]\n"
     ]
    }
   ],
   "source": [
    "import numpy as np\n",
    "from collections import defaultdict, Counter\n",
    "\n",
    "input_file = \"test.txt\"\n",
    "input_file = \"input.txt\"\n",
    "\n",
    "input = open(input_file).read().splitlines()\n",
    "\n",
    "t = input.pop(0)\n",
    "m = {k : (v, [k[0]+v, v+k[1]]) for k,v in dict((a, b) for a,b in [x.split(' -> ') for x in input[1:]]).items()}\n",
    "\n",
    "def go(steps):\n",
    "    c = Counter([t[i:i+2] for i in range(len(t)-1)])\n",
    "    cc = Counter(t)\n",
    "    for s in range(steps):\n",
    "        nc = defaultdict(int)\n",
    "        for k,v in c.items():\n",
    "            if k in m:\n",
    "                cc[m[k][0]] += v\n",
    "                for n in m[k][1]:\n",
    "                    nc[n] += v\n",
    "        c = nc\n",
    "    return np.ptp(list(cc.values()))\n",
    "\n",
    "print([go(s) for s in [10,40]])\n"
   ]
  }
 ],
 "metadata": {
  "language_info": {
   "name": "python"
  },
  "orig_nbformat": 4
 },
 "nbformat": 4,
 "nbformat_minor": 2
}
