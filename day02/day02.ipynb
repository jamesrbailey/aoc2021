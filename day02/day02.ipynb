{
 "cells": [
  {
   "cell_type": "code",
   "execution_count": 1,
   "metadata": {},
   "outputs": [
    {
     "name": "stdout",
     "output_type": "stream",
     "text": [
      "1604850\n",
      "1685186100\n"
     ]
    }
   ],
   "source": [
    "import numpy as np\n",
    "\n",
    "input_file = \"test.txt\"\n",
    "input_file = \"input.txt\"\n",
    "\n",
    "n = open(input_file).read().splitlines()\n",
    "n = [(v.split()[0], int(v.split()[1])) for v in n]\n",
    "\n",
    "# Part 1\n",
    "move_cmds = {\"forward\": np.array([1,0]), \"up\": np.array([0,-1]), \"down\": np.array([0,+1])}\n",
    "print( np.prod(sum([move_cmds[d]*v for d,v in n])) )\n",
    "\n",
    "# Part 2\n",
    "aim_cmds = {\"up\": -1, \"down\": +1, \"forward\": 0}\n",
    "move_cmds = {\"forward\": 1, \"up\": 0, \"down\": 0}\n",
    "aims = np.cumsum([val*aim_cmds[cmd] for cmd,val in n])\n",
    "forwards = [val*move_cmds[cmd] for cmd,val in n]\n",
    "print( sum(forwards) * np.cumsum(np.multiply(forwards, aims))[-1])\n",
    "\n",
    "\n",
    "\n"
   ]
  }
 ],
 "metadata": {
  "interpreter": {
   "hash": "7869ab77da36abf185550631bdf02c21ee13abbd73746d2bda2bcaba0a4d9053"
  },
  "kernelspec": {
   "display_name": "Python 3.9.5 64-bit (conda)",
   "language": "python",
   "name": "python3"
  },
  "language_info": {
   "codemirror_mode": {
    "name": "ipython",
    "version": 3
   },
   "file_extension": ".py",
   "mimetype": "text/x-python",
   "name": "python",
   "nbconvert_exporter": "python",
   "pygments_lexer": "ipython3",
   "version": "3.8.10"
  },
  "orig_nbformat": 4
 },
 "nbformat": 4,
 "nbformat_minor": 2
}
