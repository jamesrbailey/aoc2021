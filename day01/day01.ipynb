{
 "cells": [
  {
   "cell_type": "code",
   "execution_count": 14,
   "metadata": {},
   "outputs": [
    {
     "name": "stdout",
     "output_type": "stream",
     "text": [
      "7\n",
      "5\n"
     ]
    }
   ],
   "source": [
    "# Day 1\n",
    "lines = open(\"input.txt\").read().splitlines()\n",
    "lines = [int(x) for x in lines]\n",
    "# print(lines)\n",
    "\n",
    "prev = lines[0]\n",
    "inc = 0\n",
    "dec = 0\n",
    "for l in lines:\n",
    "    if l > prev:\n",
    "        inc += 1\n",
    "    elif l < prev:\n",
    "        dec += 1\n",
    "    prev = l\n",
    "\n",
    "print(inc)\n",
    "\n",
    "sums = []\n",
    "for i in range(len(lines)-2):\n",
    "    sums.append(sum(lines[i:i+3]))\n",
    "# print(sums)\n",
    "\n",
    "prev = sums[0]\n",
    "inc = 0\n",
    "dec = 0\n",
    "for l in sums:\n",
    "    if l > prev:\n",
    "        inc += 1\n",
    "    elif l < prev:\n",
    "        dec += 1\n",
    "    prev = l\n",
    "\n",
    "print(inc)\n"
   ]
  }
 ],
 "metadata": {
  "interpreter": {
   "hash": "73bb9c96036c826f4011dda1ac70118e6894562f66ddc17f5f76fa275bda1289"
  },
  "kernelspec": {
   "display_name": "Python 3.8.10 64-bit ('base': conda)",
   "language": "python",
   "name": "python3"
  },
  "language_info": {
   "codemirror_mode": {
    "name": "ipython",
    "version": 3
   },
   "file_extension": ".py",
   "mimetype": "text/x-python",
   "name": "python",
   "nbconvert_exporter": "python",
   "pygments_lexer": "ipython3",
   "version": "3.8.10"
  },
  "orig_nbformat": 4
 },
 "nbformat": 4,
 "nbformat_minor": 2
}
