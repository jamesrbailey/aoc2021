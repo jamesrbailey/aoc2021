{
 "cells": [
  {
   "cell_type": "code",
   "execution_count": 39,
   "metadata": {},
   "outputs": [
    {
     "name": "stdout",
     "output_type": "stream",
     "text": [
      "Part 1: 1688\n",
      "Part 2: 1728\n"
     ]
    }
   ],
   "source": [
    "# Day 1\n",
    "import numpy as np\n",
    "\n",
    "lines = [int(x) for x in open(\"input.txt\").read().splitlines()]\n",
    "print(\"Part 1:\", sum(np.convolve(lines, [1,-1], mode=\"valid\") > 0) )\n",
    "print(\"Part 2:\", sum(np.convolve(lines, np.convolve([1,1,1],[1,-1]), mode=\"valid\") > 0 ) )\n"
   ]
  }
 ],
 "metadata": {
  "interpreter": {
   "hash": "73bb9c96036c826f4011dda1ac70118e6894562f66ddc17f5f76fa275bda1289"
  },
  "kernelspec": {
   "display_name": "Python 3.8.10 64-bit ('base': conda)",
   "language": "python",
   "name": "python3"
  },
  "language_info": {
   "codemirror_mode": {
    "name": "ipython",
    "version": 3
   },
   "file_extension": ".py",
   "mimetype": "text/x-python",
   "name": "python",
   "nbconvert_exporter": "python",
   "pygments_lexer": "ipython3",
   "version": "3.8.10"
  },
  "orig_nbformat": 4
 },
 "nbformat": 4,
 "nbformat_minor": 2
}
