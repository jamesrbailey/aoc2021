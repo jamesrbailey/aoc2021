{
 "cells": [
  {
   "cell_type": "code",
   "execution_count": 4,
   "metadata": {},
   "outputs": [
    {
     "name": "stdout",
     "output_type": "stream",
     "text": [
      "3429254\n",
      "5410338\n"
     ]
    }
   ],
   "source": [
    "from statistics import mean\n",
    "\n",
    "input_file = \"test.txt\"\n",
    "input_file = \"input.txt\"\n",
    "\n",
    "nums = open(input_file).read().splitlines()\n",
    "\n",
    "bits = len(nums[0])\n",
    "\n",
    "# Part 1\n",
    "gamma = int((\"\".join([str(int(round(mean(x)))) for x in list(zip(*[list(map(int,x)) for x in nums]))])), base=2)\n",
    "epsilon = ~gamma % 2**bits\n",
    "print(gamma*epsilon)\n",
    "\n",
    "# Part 2\n",
    "def solve(compare):\n",
    "    filtered = [int(x,base=2) for x in nums]  \n",
    "    mini = 0\n",
    "    maxi = 2**bits\n",
    "    while(len(filtered) > 1):\n",
    "        mid = (maxi+mini)/2\n",
    "        if compare(len([x for x in filtered if x >= mid]), len([x for x in filtered if x < mid])):\n",
    "            mini = mid\n",
    "        else:\n",
    "            maxi = mid\n",
    "        filtered = [x for x in filtered if x >= mini and x < maxi]\n",
    "    return filtered[0]\n",
    "    \n",
    "o2 = solve(lambda x,y: x >= y)\n",
    "co2 = solve(lambda x,y: x < y)\n",
    "print(o2*co2)\n",
    "\n",
    "    \n"
   ]
  }
 ],
 "metadata": {
  "interpreter": {
   "hash": "73bb9c96036c826f4011dda1ac70118e6894562f66ddc17f5f76fa275bda1289"
  },
  "kernelspec": {
   "display_name": "Python 3.8.10 64-bit ('base': conda)",
   "language": "python",
   "name": "python3"
  },
  "language_info": {
   "codemirror_mode": {
    "name": "ipython",
    "version": 3
   },
   "file_extension": ".py",
   "mimetype": "text/x-python",
   "name": "python",
   "nbconvert_exporter": "python",
   "pygments_lexer": "ipython3",
   "version": "3.8.10"
  },
  "orig_nbformat": 4
 },
 "nbformat": 4,
 "nbformat_minor": 2
}
