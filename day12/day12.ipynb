{
 "cells": [
  {
   "cell_type": "code",
   "execution_count": 15,
   "metadata": {},
   "outputs": [
    {
     "name": "stdout",
     "output_type": "stream",
     "text": [
      "[['start', 'A'], ['start', 'b'], ['A', 'c'], ['A', 'b'], ['b', 'd'], ['A', 'end'], ['b', 'end']]\n",
      "start\n"
     ]
    }
   ],
   "source": [
    "from collections import defaultdict\n",
    "input_file = \"test.txt\"\n",
    "# input_file = \"input.txt\"\n",
    "\n",
    "input = [x.split('-') for x in open(input_file).read().splitlines()]\n",
    "print(input)\n",
    "\n",
    "graph = defaultdict(set)\n",
    "\n",
    "for l in input:\n",
    "    graph[l[0]].add(l[1])\n",
    "    graph[l[1]].add(l[0])\n",
    "\n",
    "c = defaultdict(int)\n",
    "\n",
    "c['start'] = 1\n",
    "todo = ['start']\n",
    "\n",
    "while len(todo):\n",
    "    node = todo.pop()\n",
    "    print(node)"
   ]
  }
 ],
 "metadata": {
  "interpreter": {
   "hash": "73bb9c96036c826f4011dda1ac70118e6894562f66ddc17f5f76fa275bda1289"
  },
  "kernelspec": {
   "display_name": "Python 3.8.10 64-bit ('base': conda)",
   "language": "python",
   "name": "python3"
  },
  "language_info": {
   "codemirror_mode": {
    "name": "ipython",
    "version": 3
   },
   "file_extension": ".py",
   "mimetype": "text/x-python",
   "name": "python",
   "nbconvert_exporter": "python",
   "pygments_lexer": "ipython3",
   "version": "3.8.10"
  },
  "orig_nbformat": 4
 },
 "nbformat": 4,
 "nbformat_minor": 2
}
